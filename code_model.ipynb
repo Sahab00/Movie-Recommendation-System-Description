{
  "nbformat": 4,
  "nbformat_minor": 0,
  "metadata": {
    "colab": {
      "provenance": [],
      "authorship_tag": "ABX9TyP78JkIjZSPPL1SPZxKgpAH",
      "include_colab_link": true
    },
    "kernelspec": {
      "name": "python3",
      "display_name": "Python 3"
    },
    "language_info": {
      "name": "python"
    }
  },
  "cells": [
    {
      "cell_type": "markdown",
      "metadata": {
        "id": "view-in-github",
        "colab_type": "text"
      },
      "source": [
        "<a href=\"https://colab.research.google.com/github/Sahab00/Movie-Recommendation-System-Description/blob/main/code_model.ipynb\" target=\"_parent\"><img src=\"https://colab.research.google.com/assets/colab-badge.svg\" alt=\"Open In Colab\"/></a>"
      ]
    },
    {
      "cell_type": "markdown",
      "source": [
        "**Movie Recommendation System\n",
        "Description**"
      ],
      "metadata": {
        "id": "w6CqcVnGEeA5"
      }
    },
    {
      "cell_type": "code",
      "execution_count": 39,
      "metadata": {
        "id": "qBNFWbM1VZhf"
      },
      "outputs": [],
      "source": [
        "import numpy as np\n",
        "import pandas as pd\n",
        "import matplotlib.pyplot as plt\n",
        "import seaborn as sns\n",
        "from sklearn.metrics import precision_score\n",
        "from sklearn.metrics.pairwise import cosine_similarity\n",
        "import os\n"
      ]
    },
    {
      "cell_type": "code",
      "source": [
        "from google.colab import files\n",
        "uploaded = files.upload()"
      ],
      "metadata": {
        "colab": {
          "base_uri": "https://localhost:8080/",
          "height": 73
        },
        "id": "DejxYfqIGwof",
        "outputId": "07cbd65a-d0db-4fd0-8955-2591db555ae6"
      },
      "execution_count": 40,
      "outputs": [
        {
          "output_type": "display_data",
          "data": {
            "text/plain": [
              "<IPython.core.display.HTML object>"
            ],
            "text/html": [
              "\n",
              "     <input type=\"file\" id=\"files-b04ee0eb-f15f-4a3f-b423-3a472bd9085e\" name=\"files[]\" multiple disabled\n",
              "        style=\"border:none\" />\n",
              "     <output id=\"result-b04ee0eb-f15f-4a3f-b423-3a472bd9085e\">\n",
              "      Upload widget is only available when the cell has been executed in the\n",
              "      current browser session. Please rerun this cell to enable.\n",
              "      </output>\n",
              "      <script>// Copyright 2017 Google LLC\n",
              "//\n",
              "// Licensed under the Apache License, Version 2.0 (the \"License\");\n",
              "// you may not use this file except in compliance with the License.\n",
              "// You may obtain a copy of the License at\n",
              "//\n",
              "//      http://www.apache.org/licenses/LICENSE-2.0\n",
              "//\n",
              "// Unless required by applicable law or agreed to in writing, software\n",
              "// distributed under the License is distributed on an \"AS IS\" BASIS,\n",
              "// WITHOUT WARRANTIES OR CONDITIONS OF ANY KIND, either express or implied.\n",
              "// See the License for the specific language governing permissions and\n",
              "// limitations under the License.\n",
              "\n",
              "/**\n",
              " * @fileoverview Helpers for google.colab Python module.\n",
              " */\n",
              "(function(scope) {\n",
              "function span(text, styleAttributes = {}) {\n",
              "  const element = document.createElement('span');\n",
              "  element.textContent = text;\n",
              "  for (const key of Object.keys(styleAttributes)) {\n",
              "    element.style[key] = styleAttributes[key];\n",
              "  }\n",
              "  return element;\n",
              "}\n",
              "\n",
              "// Max number of bytes which will be uploaded at a time.\n",
              "const MAX_PAYLOAD_SIZE = 100 * 1024;\n",
              "\n",
              "function _uploadFiles(inputId, outputId) {\n",
              "  const steps = uploadFilesStep(inputId, outputId);\n",
              "  const outputElement = document.getElementById(outputId);\n",
              "  // Cache steps on the outputElement to make it available for the next call\n",
              "  // to uploadFilesContinue from Python.\n",
              "  outputElement.steps = steps;\n",
              "\n",
              "  return _uploadFilesContinue(outputId);\n",
              "}\n",
              "\n",
              "// This is roughly an async generator (not supported in the browser yet),\n",
              "// where there are multiple asynchronous steps and the Python side is going\n",
              "// to poll for completion of each step.\n",
              "// This uses a Promise to block the python side on completion of each step,\n",
              "// then passes the result of the previous step as the input to the next step.\n",
              "function _uploadFilesContinue(outputId) {\n",
              "  const outputElement = document.getElementById(outputId);\n",
              "  const steps = outputElement.steps;\n",
              "\n",
              "  const next = steps.next(outputElement.lastPromiseValue);\n",
              "  return Promise.resolve(next.value.promise).then((value) => {\n",
              "    // Cache the last promise value to make it available to the next\n",
              "    // step of the generator.\n",
              "    outputElement.lastPromiseValue = value;\n",
              "    return next.value.response;\n",
              "  });\n",
              "}\n",
              "\n",
              "/**\n",
              " * Generator function which is called between each async step of the upload\n",
              " * process.\n",
              " * @param {string} inputId Element ID of the input file picker element.\n",
              " * @param {string} outputId Element ID of the output display.\n",
              " * @return {!Iterable<!Object>} Iterable of next steps.\n",
              " */\n",
              "function* uploadFilesStep(inputId, outputId) {\n",
              "  const inputElement = document.getElementById(inputId);\n",
              "  inputElement.disabled = false;\n",
              "\n",
              "  const outputElement = document.getElementById(outputId);\n",
              "  outputElement.innerHTML = '';\n",
              "\n",
              "  const pickedPromise = new Promise((resolve) => {\n",
              "    inputElement.addEventListener('change', (e) => {\n",
              "      resolve(e.target.files);\n",
              "    });\n",
              "  });\n",
              "\n",
              "  const cancel = document.createElement('button');\n",
              "  inputElement.parentElement.appendChild(cancel);\n",
              "  cancel.textContent = 'Cancel upload';\n",
              "  const cancelPromise = new Promise((resolve) => {\n",
              "    cancel.onclick = () => {\n",
              "      resolve(null);\n",
              "    };\n",
              "  });\n",
              "\n",
              "  // Wait for the user to pick the files.\n",
              "  const files = yield {\n",
              "    promise: Promise.race([pickedPromise, cancelPromise]),\n",
              "    response: {\n",
              "      action: 'starting',\n",
              "    }\n",
              "  };\n",
              "\n",
              "  cancel.remove();\n",
              "\n",
              "  // Disable the input element since further picks are not allowed.\n",
              "  inputElement.disabled = true;\n",
              "\n",
              "  if (!files) {\n",
              "    return {\n",
              "      response: {\n",
              "        action: 'complete',\n",
              "      }\n",
              "    };\n",
              "  }\n",
              "\n",
              "  for (const file of files) {\n",
              "    const li = document.createElement('li');\n",
              "    li.append(span(file.name, {fontWeight: 'bold'}));\n",
              "    li.append(span(\n",
              "        `(${file.type || 'n/a'}) - ${file.size} bytes, ` +\n",
              "        `last modified: ${\n",
              "            file.lastModifiedDate ? file.lastModifiedDate.toLocaleDateString() :\n",
              "                                    'n/a'} - `));\n",
              "    const percent = span('0% done');\n",
              "    li.appendChild(percent);\n",
              "\n",
              "    outputElement.appendChild(li);\n",
              "\n",
              "    const fileDataPromise = new Promise((resolve) => {\n",
              "      const reader = new FileReader();\n",
              "      reader.onload = (e) => {\n",
              "        resolve(e.target.result);\n",
              "      };\n",
              "      reader.readAsArrayBuffer(file);\n",
              "    });\n",
              "    // Wait for the data to be ready.\n",
              "    let fileData = yield {\n",
              "      promise: fileDataPromise,\n",
              "      response: {\n",
              "        action: 'continue',\n",
              "      }\n",
              "    };\n",
              "\n",
              "    // Use a chunked sending to avoid message size limits. See b/62115660.\n",
              "    let position = 0;\n",
              "    do {\n",
              "      const length = Math.min(fileData.byteLength - position, MAX_PAYLOAD_SIZE);\n",
              "      const chunk = new Uint8Array(fileData, position, length);\n",
              "      position += length;\n",
              "\n",
              "      const base64 = btoa(String.fromCharCode.apply(null, chunk));\n",
              "      yield {\n",
              "        response: {\n",
              "          action: 'append',\n",
              "          file: file.name,\n",
              "          data: base64,\n",
              "        },\n",
              "      };\n",
              "\n",
              "      let percentDone = fileData.byteLength === 0 ?\n",
              "          100 :\n",
              "          Math.round((position / fileData.byteLength) * 100);\n",
              "      percent.textContent = `${percentDone}% done`;\n",
              "\n",
              "    } while (position < fileData.byteLength);\n",
              "  }\n",
              "\n",
              "  // All done.\n",
              "  yield {\n",
              "    response: {\n",
              "      action: 'complete',\n",
              "    }\n",
              "  };\n",
              "}\n",
              "\n",
              "scope.google = scope.google || {};\n",
              "scope.google.colab = scope.google.colab || {};\n",
              "scope.google.colab._files = {\n",
              "  _uploadFiles,\n",
              "  _uploadFilesContinue,\n",
              "};\n",
              "})(self);\n",
              "</script> "
            ]
          },
          "metadata": {}
        },
        {
          "output_type": "stream",
          "name": "stdout",
          "text": [
            "Saving dataset.zip to dataset (1).zip\n"
          ]
        }
      ]
    },
    {
      "cell_type": "code",
      "source": [
        "import zipfile\n",
        "import os\n",
        "\n",
        "# Path to your zip file\n",
        "zip_path = \"dataset.zip\"\n",
        "extract_to = \"dataset\"\n",
        "\n",
        "# Unzip it\n",
        "with zipfile.ZipFile(zip_path, 'r') as zip_ref:\n",
        "    zip_ref.extractall(extract_to)\n",
        "\n",
        "print(\"✅ Extraction done.\")\n"
      ],
      "metadata": {
        "colab": {
          "base_uri": "https://localhost:8080/"
        },
        "id": "-M7dI9_yJY-z",
        "outputId": "ed74e729-ff7e-45f6-8df7-c78bce9d5935"
      },
      "execution_count": 41,
      "outputs": [
        {
          "output_type": "stream",
          "name": "stdout",
          "text": [
            "✅ Extraction done.\n"
          ]
        }
      ]
    },
    {
      "cell_type": "code",
      "source": [
        "ratings_path = \"dataset/ml-100k/u.data\"\n",
        "movies_path = \"dataset/ml-100k/u.item\"\n",
        "\n",
        "# Confirm files exist\n",
        "print(\"Ratings file found:\", os.path.exists(ratings_path))\n",
        "print(\"Movies file found:\", os.path.exists(movies_path))"
      ],
      "metadata": {
        "colab": {
          "base_uri": "https://localhost:8080/"
        },
        "id": "RvmI3iBEJeH3",
        "outputId": "fbec4157-b89f-4c9f-c962-67720bad3c79"
      },
      "execution_count": 42,
      "outputs": [
        {
          "output_type": "stream",
          "name": "stdout",
          "text": [
            "Ratings file found: True\n",
            "Movies file found: True\n"
          ]
        }
      ]
    },
    {
      "cell_type": "code",
      "source": [
        "import os\n",
        "\n",
        "print(os.listdir(\"dataset/ml-100k\"))  # should list u.data, u.item, etc.\n"
      ],
      "metadata": {
        "colab": {
          "base_uri": "https://localhost:8080/"
        },
        "id": "JKZ76rNFJfSZ",
        "outputId": "f6df69d8-b670-4e05-d8f7-99c2eedbad86"
      },
      "execution_count": 43,
      "outputs": [
        {
          "output_type": "stream",
          "name": "stdout",
          "text": [
            "['u5.test', 'u4.base', 'u1.base', 'u1.test', 'u3.base', 'u4.test', 'u.genre', 'u.data', 'u3.test', 'ua.base', 'u2.test', 'u.user', 'u.occupation', 'ub.test', 'mku.sh', 'u.info', 'u.item', 'allbut.pl', 'README', 'ua.test', 'ub.base', 'u2.base', 'u5.base']\n"
          ]
        }
      ]
    },
    {
      "cell_type": "code",
      "source": [
        "\n",
        "ratings_columns = ['user_id', 'item_id', 'rating', 'timestamp']\n",
        "ratings = pd.read_csv(ratings_path, sep='\\t', names=ratings_columns)\n",
        "\n",
        "\n",
        "movie_columns = ['item_id', 'title', 'release_date', 'video_release_date', 'IMDb_URL',\n",
        "                 'unknown', 'Action', 'Adventure', 'Animation', 'Children', 'Comedy',\n",
        "                 'Crime', 'Documentary', 'Drama', 'Fantasy', 'Film-Noir', 'Horror',\n",
        "                 'Musical', 'Mystery', 'Romance', 'Sci-Fi', 'Thriller', 'War', 'Western']\n",
        "movies = pd.read_csv(movies_path, sep='|', names=movie_columns, encoding='latin-1', usecols=[0, 1])\n",
        "\n",
        "user_item_matrix = ratings.pivot_table(index='user_id', columns='item_id', values='rating')\n",
        "user_item_matrix.fillna(0, inplace=True)\n",
        "\n",
        "user_similarity = cosine_similarity(user_item_matrix)\n",
        "user_similarity_df = pd.DataFrame(user_similarity, index=user_item_matrix.index, columns=user_item_matrix.index)"
      ],
      "metadata": {
        "id": "jJtdRdtpKQcT"
      },
      "execution_count": 44,
      "outputs": []
    },
    {
      "cell_type": "markdown",
      "source": [
        "**Recommendation function**"
      ],
      "metadata": {
        "id": "O25ZGAoHKR-u"
      }
    },
    {
      "cell_type": "code",
      "source": [
        "def recommend_movies(user_id, user_item_matrix, similarity_df, movies_df, top_n=5):\n",
        "    sim_scores = similarity_df[user_id]\n",
        "    sim_scores[user_id] = 0\n",
        "\n",
        "    weighted_ratings = sim_scores @ user_item_matrix\n",
        "    sim_sums = sim_scores.sum()\n",
        "    recommendation_scores = weighted_ratings / sim_sums\n",
        "\n",
        "    watched = user_item_matrix.loc[user_id]\n",
        "    watched = watched[watched > 0].index\n",
        "    recommendation_scores = recommendation_scores.drop(watched, errors='ignore')\n",
        "\n",
        "    top_items = recommendation_scores.sort_values(ascending=False).head(top_n).index\n",
        "    return movies_df[movies_df['item_id'].isin(top_items)]\n",
        "\n",
        "\n"
      ],
      "metadata": {
        "id": "J36pzZ2HJiP4"
      },
      "execution_count": 45,
      "outputs": []
    },
    {
      "cell_type": "markdown",
      "source": [
        "**Test recommendation for user 10**"
      ],
      "metadata": {
        "id": "x0EWQkSZKcSj"
      }
    },
    {
      "cell_type": "code",
      "source": [
        "\n",
        "recommended = recommend_movies(10, user_item_matrix, user_similarity_df, movies, top_n=5)\n",
        "print(\"\\nTop 5 Recommendations for User 10:\")\n",
        "print(recommended)"
      ],
      "metadata": {
        "colab": {
          "base_uri": "https://localhost:8080/"
        },
        "id": "KQkMXH3IKXpt",
        "outputId": "5d76ef4c-964a-40ef-b5e2-7d46bc81e71c"
      },
      "execution_count": 46,
      "outputs": [
        {
          "output_type": "stream",
          "name": "stdout",
          "text": [
            "\n",
            "Top 5 Recommendations for User 10:\n",
            "     item_id                            title\n",
            "78        79             Fugitive, The (1993)\n",
            "171      172  Empire Strikes Back, The (1980)\n",
            "180      181        Return of the Jedi (1983)\n",
            "203      204        Back to the Future (1985)\n",
            "317      318          Schindler's List (1993)\n"
          ]
        }
      ]
    },
    {
      "cell_type": "markdown",
      "source": [
        "**Precision@K**"
      ],
      "metadata": {
        "id": "e8v2cvrQLKkg"
      }
    },
    {
      "cell_type": "code",
      "source": [
        "from sklearn.model_selection import train_test_split\n",
        "\n",
        "def precision_at_k(user_id, k, user_item_matrix, similarity_df, ratings_df):\n",
        "\n",
        "    user_ratings = ratings_df[ratings_df['user_id'] == user_id]\n",
        "\n",
        "    if len(user_ratings) < 5:\n",
        "        return None\n",
        "\n",
        "    train, test = train_test_split(user_ratings, test_size=0.4, random_state=42)\n",
        "    train_matrix = user_item_matrix.copy()\n",
        "    train_matrix.loc[user_id, train_matrix.columns] = 0\n",
        "    train_matrix.loc[user_id, train['item_id']] = train['rating']\n",
        "\n",
        "    sim_scores = similarity_df[user_id]\n",
        "    sim_scores[user_id] = 0\n",
        "    weighted_ratings = sim_scores @ train_matrix\n",
        "    sim_sums = sim_scores.sum()\n",
        "    recommendation_scores = weighted_ratings / sim_sums\n",
        "\n",
        "\n",
        "    watched = train['item_id']\n",
        "    recommendation_scores = recommendation_scores.drop(watched, errors='ignore')\n",
        "\n",
        "    top_k = recommendation_scores.sort_values(ascending=False).head(k).index\n",
        "\n",
        "\n",
        "    relevant_items = set(test['item_id'])\n",
        "\n",
        "    hits = sum([1 for item in top_k if item in relevant_items])\n",
        "    precision = hits / k\n",
        "\n",
        "    return precision\n",
        "score = precision_at_k(user_id=10, k=5, user_item_matrix=user_item_matrix, similarity_df=user_similarity_df, ratings_df=ratings)\n",
        "print(f\"Precision@5 for User 10: {score:.2f}\")\n",
        "\n"
      ],
      "metadata": {
        "colab": {
          "base_uri": "https://localhost:8080/"
        },
        "id": "Rvg-o7YPLKE_",
        "outputId": "b82cee10-205f-42b0-f212-a13098334fd2"
      },
      "execution_count": 47,
      "outputs": [
        {
          "output_type": "stream",
          "name": "stdout",
          "text": [
            "Precision@5 for User 10: 0.40\n"
          ]
        }
      ]
    },
    {
      "cell_type": "markdown",
      "source": [
        "**SVD-based Recommendations**"
      ],
      "metadata": {
        "id": "WEalJJGTLooz"
      }
    },
    {
      "cell_type": "code",
      "source": [
        "from sklearn.decomposition import TruncatedSVD\n",
        "\n",
        "\n",
        "svd = TruncatedSVD(n_components=20, random_state=42)\n",
        "matrix_svd = svd.fit_transform(user_item_matrix)\n",
        "\n",
        "latent_similarity = cosine_similarity(matrix_svd)\n",
        "latent_similarity_df = pd.DataFrame(latent_similarity, index=user_item_matrix.index, columns=user_item_matrix.index)\n",
        "\n",
        "\n",
        "svd_recommendations = recommend_movies(10, user_item_matrix, latent_similarity_df, movies, top_n=5)\n",
        "print(\"\\nTop 5 SVD-Based Recommendations for User 10:\")\n",
        "print(svd_recommendations)\n"
      ],
      "metadata": {
        "colab": {
          "base_uri": "https://localhost:8080/"
        },
        "id": "2DETYTGeLmOi",
        "outputId": "81fb3fdc-2eb3-4387-87e6-2906227bb295"
      },
      "execution_count": 48,
      "outputs": [
        {
          "output_type": "stream",
          "name": "stdout",
          "text": [
            "\n",
            "Top 5 SVD-Based Recommendations for User 10:\n",
            "     item_id                            title\n",
            "171      172  Empire Strikes Back, The (1980)\n",
            "172      173       Princess Bride, The (1987)\n",
            "180      181        Return of the Jedi (1983)\n",
            "203      204        Back to the Future (1985)\n",
            "317      318          Schindler's List (1993)\n"
          ]
        }
      ]
    },
    {
      "cell_type": "code",
      "source": [
        "def precision_at_k_for_method(user_id, k, user_item_matrix, similarity_df, ratings_df, recommend_func):\n",
        "\n",
        "    user_ratings = ratings_df[ratings_df['user_id'] == user_id]\n",
        "    if len(user_ratings) < 5:\n",
        "        return None\n",
        "\n",
        "    train, test = train_test_split(user_ratings, test_size=0.4, random_state=42)\n",
        "\n",
        "\n",
        "    train_matrix = user_item_matrix.copy()\n",
        "    train_matrix.loc[user_id, train_matrix.columns] = 0\n",
        "    train_matrix.loc[user_id, train['item_id']] = train['rating']\n",
        "\n",
        "\n",
        "    recommended_movies = recommend_func(user_id, train_matrix, similarity_df, movies, top_n=k)\n",
        "\n",
        "\n",
        "    recommended_items = set(recommended_movies['item_id'])\n",
        "    relevant_items = set(test['item_id'])\n",
        "    hits = len(recommended_items.intersection(relevant_items))\n",
        "\n",
        "    return hits / k\n"
      ],
      "metadata": {
        "id": "Yntta3T7MJpT"
      },
      "execution_count": 49,
      "outputs": []
    },
    {
      "cell_type": "code",
      "source": [
        "def user_based_recommend(user_id, user_item_matrix, similarity_df, movies_df, top_n=5):\n",
        "    return recommend_movies(user_id, user_item_matrix, similarity_df, movies_df, top_n)\n",
        "\n",
        "def svd_based_recommend(user_id, user_item_matrix, similarity_df, movies_df, top_n=5):\n",
        "    return recommend_movies(user_id, user_item_matrix, similarity_df, movies_df, top_n)\n"
      ],
      "metadata": {
        "id": "IrD_jjWhMnW5"
      },
      "execution_count": 50,
      "outputs": []
    },
    {
      "cell_type": "code",
      "source": [
        "users = user_item_matrix.index.tolist()\n",
        "methods = {\n",
        "    \"User-Based\": (user_based_recommend, user_similarity_df),\n",
        "    \"SVD-Based\": (svd_based_recommend, latent_similarity_df)\n",
        "}\n",
        "\n",
        "results = {name: [] for name in methods.keys()}\n",
        "\n",
        "for user_id in users:\n",
        "    for method_name, (rec_func, sim_df) in methods.items():\n",
        "        score = precision_at_k_for_method(user_id, 5, user_item_matrix, sim_df, ratings, rec_func)\n",
        "        if score is not None:\n",
        "            results[method_name].append(score)\n",
        "\n",
        "\n",
        "for method_name, scores in results.items():\n",
        "    avg_score = sum(scores) / len(scores) if scores else 0\n",
        "    print(f\"{method_name} Average Precision@5: {avg_score:.4f}\")\n"
      ],
      "metadata": {
        "colab": {
          "base_uri": "https://localhost:8080/"
        },
        "id": "_Z2tNXmBMo0R",
        "outputId": "0d85103e-ab0e-43c8-84e7-2b1b8b5df5ff"
      },
      "execution_count": 51,
      "outputs": [
        {
          "output_type": "stream",
          "name": "stdout",
          "text": [
            "User-Based Average Precision@5: 0.5236\n",
            "SVD-Based Average Precision@5: 0.5084\n"
          ]
        }
      ]
    },
    {
      "cell_type": "markdown",
      "source": [
        "**Displaying**"
      ],
      "metadata": {
        "id": "qCZr_sc4Op43"
      }
    },
    {
      "cell_type": "code",
      "source": [
        "models = ['User-Based CF', 'SVD-Based CF']\n",
        "\n",
        "\n",
        "precision_scores = [0.5236, 0.5084]\n",
        "\n",
        "# Plotting\n",
        "plt.figure(figsize=(6,4))\n",
        "bars = plt.bar(models, precision_scores, color=['skyblue', 'salmon'])\n",
        "\n",
        "for bar in bars:\n",
        "    yval = bar.get_height()\n",
        "    plt.text(bar.get_x() + bar.get_width()/2, yval + 0.01, f\"{yval:.3f}\", ha='center', fontsize=12)\n",
        "\n",
        "plt.ylim(0, 1)\n",
        "plt.ylabel('Average Precision@5')\n",
        "plt.title('Comparison of Recommendation Methods')\n",
        "plt.show()\n"
      ],
      "metadata": {
        "colab": {
          "base_uri": "https://localhost:8080/",
          "height": 391
        },
        "id": "GmrSZSMOOZZ7",
        "outputId": "793e3a87-a15b-4ab1-a06e-c7a6d91f99fa"
      },
      "execution_count": 52,
      "outputs": [
        {
          "output_type": "display_data",
          "data": {
            "text/plain": [
              "<Figure size 600x400 with 1 Axes>"
            ],
            "image/png": "[encoded data removed]"
          },
          "metadata": {}
        }
      ]
    }
  ]
}